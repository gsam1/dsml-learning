{
 "cells": [
  {
   "cell_type": "markdown",
   "metadata": {
    "slideshow": {
     "slide_type": "slide"
    }
   },
   "source": [
    "## measuring memory latency \n",
    "\n",
    "In this notebook we will investigate the distribution of latency times for different size arrays."
   ]
  },
  {
   "cell_type": "markdown",
   "metadata": {
    "slideshow": {
     "slide_type": "fragment"
    }
   },
   "source": [
    "1. **Goal 1:** Measure the effects of caching **in the wild**\n",
    "2. **Goal 2:** Undestand how to study long-tail distributions."
   ]
  },
  {
   "cell_type": "markdown",
   "metadata": {
    "slideshow": {
     "slide_type": "skip"
    }
   },
   "source": [
    "### Import modules"
   ]
  },
  {
   "cell_type": "code",
   "execution_count": 1,
   "metadata": {
    "ExecuteTime": {
     "end_time": "2018-04-09T00:50:26.374471Z",
     "start_time": "2018-04-09T00:50:26.165862Z"
    },
    "slideshow": {
     "slide_type": "skip"
    }
   },
   "outputs": [
    {
     "name": "stdout",
     "output_type": "stream",
     "text": [
      "Populating the interactive namespace from numpy and matplotlib\n"
     ]
    }
   ],
   "source": [
    "%pylab inline\n",
    "from numpy import *"
   ]
  },
  {
   "cell_type": "code",
   "execution_count": 2,
   "metadata": {
    "ExecuteTime": {
     "end_time": "2018-04-09T00:50:26.384946Z",
     "start_time": "2018-04-09T00:50:26.376451Z"
    },
    "slideshow": {
     "slide_type": "skip"
    }
   },
   "outputs": [],
   "source": [
    "import time\n",
    "from matplotlib.backends.backend_pdf import PdfPages\n",
    "\n",
    "from os.path import isfile,isdir\n",
    "from os import mkdir\n",
    "import os"
   ]
  },
  {
   "cell_type": "markdown",
   "metadata": {
    "slideshow": {
     "slide_type": "skip"
    }
   },
   "source": [
    "#### Set log directory\n",
    "This script generates large files. We put these files in a separate directory so it is easier to delete them later.\n",
    "\n",
    "#run this cell only once"
   ]
  },
  {
   "cell_type": "code",
   "execution_count": 3,
   "metadata": {
    "ExecuteTime": {
     "end_time": "2018-04-09T00:50:26.402507Z",
     "start_time": "2018-04-09T00:50:26.386671Z"
    },
    "slideshow": {
     "slide_type": "skip"
    }
   },
   "outputs": [],
   "source": [
    "## Remember the path for home and  log directories\n",
    "home_base,=!pwd\n",
    "log_root=home_base+'/logs'\n",
    "if not isdir(log_root):\n",
    "    mkdir(log_root)"
   ]
  },
  {
   "cell_type": "code",
   "execution_count": 4,
   "metadata": {
    "ExecuteTime": {
     "end_time": "2018-04-09T00:50:26.525778Z",
     "start_time": "2018-04-09T00:50:26.405115Z"
    },
    "slideshow": {
     "slide_type": "skip"
    }
   },
   "outputs": [],
   "source": [
    "from lib.measureRandomAccess import measureRandomAccess\n",
    "from lib.PlotTime import PlotTime\n",
    "from lib.create_file import create_file,tee"
   ]
  },
  {
   "cell_type": "markdown",
   "metadata": {
    "slideshow": {
     "slide_type": "subslide"
    }
   },
   "source": [
    "### defining memory latency\n",
    "Latency is the time difference between the time at which the CPU is issuing a read or write command and, the time the command is complete."
   ]
  },
  {
   "cell_type": "markdown",
   "metadata": {
    "slideshow": {
     "slide_type": "fragment"
    }
   },
   "source": [
    "* This time is  very short if the element is already in the L1 Cache, "
   ]
  },
  {
   "cell_type": "markdown",
   "metadata": {
    "slideshow": {
     "slide_type": "fragment"
    }
   },
   "source": [
    "* and is very long if the element is in external memory (disk or SSD)."
   ]
  },
  {
   "cell_type": "markdown",
   "metadata": {
    "slideshow": {
     "slide_type": "subslide"
    }
   },
   "source": [
    "### setting parameters\n",
    "* We test access to elements arrays whose sizes are:\n",
    "   * `m_legend=['Zero','1KB','1MB','1GB','10GB']`\n",
    "* Arrays are stored **in memory** or **on disk**"
   ]
  },
  {
   "cell_type": "markdown",
   "metadata": {
    "slideshow": {
     "slide_type": "fragment"
    }
   },
   "source": [
    "* We perform 100,000 read/write ops  to random locations in the array.\n",
    "* We analyze the **distribution** of the latencies as a function of the size of the array."
   ]
  },
  {
   "cell_type": "code",
   "execution_count": 5,
   "metadata": {
    "ExecuteTime": {
     "end_time": "2018-04-09T00:50:26.532716Z",
     "start_time": "2018-04-09T00:50:26.527575Z"
    },
    "slideshow": {
     "slide_type": "skip"
    }
   },
   "outputs": [
    {
     "name": "stdout",
     "output_type": "stream",
     "text": [
      "m_list= [0, 1000, 1000000, 1000000000, 10000000000]\n"
     ]
    }
   ],
   "source": [
    "m_list=[0]+[int(10**i) for i in [3,6,9,10]]\n",
    "m_legend=['Zero','1KB','1MB','1GB','10GB']\n",
    "L=len(m_list)\n",
    "k=100000 # number of pokes\n",
    "print('m_list=',m_list)"
   ]
  },
  {
   "cell_type": "markdown",
   "metadata": {
    "slideshow": {
     "slide_type": "skip"
    }
   },
   "source": [
    "### Set working directory\n",
    "This script generates large files. We put these files in a separate directory so it is easier to delete them later."
   ]
  },
  {
   "cell_type": "code",
   "execution_count": 6,
   "metadata": {
    "ExecuteTime": {
     "end_time": "2018-04-09T00:50:26.545583Z",
     "start_time": "2018-04-09T00:50:26.534558Z"
    },
    "slideshow": {
     "slide_type": "skip"
    }
   },
   "outputs": [
    {
     "name": "stdout",
     "output_type": "stream",
     "text": [
      "/home/fury/Code/class/spark_data_analytics/Section1-Spark-Basics/0.MemoryLatency/logs/1569654076\n"
     ]
    }
   ],
   "source": [
    "TimeStamp=str(int(time.time()))\n",
    "log_dir=log_root+'/'+TimeStamp\n",
    "mkdir(log_dir)\n",
    "%cd $log_dir\n",
    "stat=open('stats.txt','w')\n",
    "\n",
    "def tee(line):\n",
    "    print(line)\n",
    "    stat.write(line+'\\n')"
   ]
  },
  {
   "cell_type": "code",
   "execution_count": 7,
   "metadata": {
    "ExecuteTime": {
     "end_time": "2018-04-09T00:50:26.551619Z",
     "start_time": "2018-04-09T00:50:26.547257Z"
    },
    "slideshow": {
     "slide_type": "skip"
    }
   },
   "outputs": [],
   "source": [
    "_mean=zeros([2,L])   #0: using disk, 1: using memory\n",
    "_std=zeros([2,L])\n",
    "_block_no=zeros([L])\n",
    "_block_size=zeros([L])\n",
    "T=zeros([2,L,k])"
   ]
  },
  {
   "cell_type": "code",
   "execution_count": 8,
   "metadata": {
    "ExecuteTime": {
     "end_time": "2018-04-09T00:50:26.570068Z",
     "start_time": "2018-04-09T00:50:26.553347Z"
    }
   },
   "outputs": [],
   "source": [
    "# %load /Users/yoavfreund/academic.papers/Courses/BigDataAnalytics/BigData_spring2016/CSE255-DSE230-2018/Sections/Section1-Spark-Basics/0.MemoryLatency/lib/create_file.py\n",
    "import time\n",
    "\n",
    "stat=open('stats.txt','w')\n",
    "\n",
    "def tee(line):\n",
    "    print(line)\n",
    "    stat.write(line+'\\n')\n",
    "    \n",
    "def create_file(n,m,filename='DataBlock'):\n",
    "    \"\"\"Create a scratch file of a given size\n",
    "\n",
    "    :param n: size of block\n",
    "    :param m: number of blocks\n",
    "    :param filename: desired filename\n",
    "    :returns: time to allocate block of size n, time to write a file of size m*n\n",
    "    :rtype: tuple\n",
    "\n",
    "    \"\"\"\n",
    "    t1=time.time()\n",
    "    A=bytearray(n)\n",
    "    t2=time.time()\n",
    "    file=open(filename,'wb')\n",
    "    for i in range(m):\n",
    "        file.write(A)\n",
    "        if i % 100 == 0:\n",
    "            print('\\r',i,\",\", end=' ')\n",
    "    file.close()\n",
    "    t3=time.time()\n",
    "    tee('\\r              \\ncreating %d byte block: %f sec, writing %d blocks %f sec' % (n,t2-t1,m,t3-t2))\n",
    "    return (t2-t1,t3-t2)"
   ]
  },
  {
   "cell_type": "code",
   "execution_count": 9,
   "metadata": {
    "ExecuteTime": {
     "end_time": "2018-04-09T00:51:09.483586Z",
     "start_time": "2018-04-09T00:50:26.571843Z"
    },
    "scrolled": true,
    "slideshow": {
     "slide_type": "skip"
    }
   },
   "outputs": [
    {
     "name": "stdout",
     "output_type": "stream",
     "text": [
      "              \n",
      "creating 1 byte block: 0.000001 sec, writing 0 blocks 0.000206 sec\n",
      "File pokes _mean=1.1259555816650391e-07, file _std=1.3446691449993887e-07\n",
      "Memory pokes _mean=1.0246515274047851e-07, Memory _std=1.3537635913398898e-07\n",
      "              \n",
      "creating 1 byte block: 0.000001 sec, writing 1000 blocks 0.004185 sec\n",
      "File pokes _mean=1.0338830947875976e-05, file _std=4.014789759373859e-06\n",
      "Memory pokes _mean=1.5967369079589843e-07, Memory _std=1.345904284027201e-07\n",
      "              \n",
      "creating 1000000 byte block: 0.000049 sec, writing 1 blocks 0.001018 sec\n",
      "File pokes _mean=1.046220302581787e-05, file _std=4.078003651903214e-06\n",
      "Memory pokes _mean=1.6943931579589843e-07, Memory _std=1.4716316787302913e-07\n",
      "              \n",
      "creating 1000000 byte block: 0.000031 sec, writing 1000 blocks 0.454333 sec\n",
      "File pokes _mean=1.0916383266448975e-05, file _std=4.757305197826086e-06\n",
      "Memory pokes _mean=2.8762102127075194e-07, Memory _std=1.2794026648802815e-07\n",
      "              \n",
      "creating 1000000 byte block: 0.000030 sec, writing 10000 blocks 20.895365 sec\n",
      "File pokes _mean=1.872051954269409e-05, file _std=0.0005742750346353368\n",
      "Memory pokes _mean=3.985762596130371e-07, Memory _std=1.9200053159753298e-07\n",
      "==================================================\n"
     ]
    }
   ],
   "source": [
    "Random_pokes=[]\n",
    "Min_Block_size=1000000\n",
    "for m_i in range(len(m_list)):\n",
    "    \n",
    "    m=m_list[m_i]\n",
    "    blocks=int(m/Min_Block_size)\n",
    "    if blocks==0:\n",
    "        _block_size[m_i]=1\n",
    "        _block_no[m_i]=m\n",
    "    else:\n",
    "        _block_size[m_i]=Min_Block_size\n",
    "        _block_no[m_i]=blocks\n",
    "    (t_mem,t_disk) = create_file(int(_block_size[m_i]),int(_block_no[m_i]),filename='BlockData'+str(m))\n",
    "\n",
    "    (_mean[0,m_i],_std[0,m_i],T[0,m_i]) = measureRandomAccess(m,filename='BlockData'+str(m),k=k)\n",
    "    T[0,m_i]=sorted(T[0,m_i])\n",
    "    tee('\\rFile pokes _mean='+str(_mean[0,m_i])+', file _std='+str(_std[0,m_i]))\n",
    "\n",
    "    (_mean[1,m_i],_std[1,m_i],T[1,m_i]) = measureRandomAccess(m,filename='',k=k)\n",
    "    T[1,m_i]=sorted(T[1,m_i])\n",
    "    tee('\\rMemory pokes _mean='+str(_mean[1,m_i])+', Memory _std='+str(_std[1,m_i]))\n",
    "    \n",
    "    Random_pokes.append({'m_i':m_i,\n",
    "                        'm':m,\n",
    "                        'memory__mean': _mean[1,m_i],\n",
    "                        'memory__std': _std[1,m_i],\n",
    "                        'memory_largest': T[1,m_i][-1000:],\n",
    "                        'file__mean': _mean[0,m_i],\n",
    "                        'file__std': _std[0,m_i],\n",
    "                        'file_largest': T[0,m_i][-1000:]                \n",
    "                })\n",
    "print('='*50)"
   ]
  },
  {
   "cell_type": "code",
   "execution_count": 10,
   "metadata": {
    "ExecuteTime": {
     "end_time": "2018-04-09T00:51:09.492452Z",
     "start_time": "2018-04-09T00:51:09.485196Z"
    },
    "scrolled": false,
    "slideshow": {
     "slide_type": "skip"
    }
   },
   "outputs": [
    {
     "name": "stdout",
     "output_type": "stream",
     "text": [
      "| block size | mem mean  | mem std | disk mean | disk std |\n",
      "| :--------- | :----------- | :--- | :-------- | :------- |\n",
      "| 0 | 1.02e-07 | 1.35e-07 |  1.13e-07 | 1.34e-07 |\n",
      "| 1000 | 1.6e-07 | 1.35e-07 |  1.03e-05 | 4.01e-06 |\n",
      "| 1000000 | 1.69e-07 | 1.47e-07 |  1.05e-05 | 4.08e-06 |\n",
      "| 1000000000 | 2.88e-07 | 1.28e-07 |  1.09e-05 | 4.76e-06 |\n",
      "| 10000000000 | 3.99e-07 | 1.92e-07 |  1.87e-05 | 0.000574 |\n"
     ]
    }
   ],
   "source": [
    "fields=['m', 'memory__mean', 'memory__std','file__mean','file__std']\n",
    "print('| block size | mem mean  | mem std | disk mean | disk std |')\n",
    "print('| :--------- | :----------- | :--- | :-------- | :------- |')\n",
    "for R in Random_pokes:\n",
    "    tup=tuple([R[f] for f in fields])\n",
    "    print('| %d | %6.3g | %6.3g |  %6.3g | %6.3g |'%tup)"
   ]
  },
  {
   "cell_type": "markdown",
   "metadata": {
    "slideshow": {
     "slide_type": "subslide"
    }
   },
   "source": [
    "### Mean and std of latency for random access\n",
    "<img alt=\"\" src=\"Figures/Random_access_latency.png\" style=\"width:700px\" />\n",
    "* Note that `zero` is not really zero.\n",
    "* system time is accurate to micro-second, not nano-second.\n",
    "* SSD random access latency is $10^{-5} - 10^{-4}$"
   ]
  },
  {
   "cell_type": "markdown",
   "metadata": {
    "slideshow": {
     "slide_type": "subslide"
    }
   },
   "source": [
    "### Digging deeper\n",
    "* THe mean and std are the first statistics to look at.\n",
    "* but the distribution might have more to tell us."
   ]
  },
  {
   "cell_type": "markdown",
   "metadata": {
    "slideshow": {
     "slide_type": "subslide"
    }
   },
   "source": [
    "### First, lets try histograms"
   ]
  },
  {
   "cell_type": "code",
   "execution_count": 11,
   "metadata": {
    "ExecuteTime": {
     "end_time": "2018-04-09T00:51:10.068981Z",
     "start_time": "2018-04-09T00:51:09.495132Z"
    },
    "hide_input": true,
    "slideshow": {
     "slide_type": "fragment"
    }
   },
   "outputs": [
    {
     "name": "stdout",
     "output_type": "stream",
     "text": [
      "Disk Block of size 1e+01 GB\n",
      " latency mean=3.985762596130371e-07,  std=1.9200053159753298e-07\n",
      " Fraction of zeros= 6e-05\n"
     ]
    },
    {
     "data": {
      "image/png": "[encoded data removed]",
      "text/plain": [
       "<Figure size 720x288 with 2 Axes>"
      ]
     },
     "metadata": {
      "needs_background": "light"
     },
     "output_type": "display_data"
    }
   ],
   "source": [
    "m_i=4\n",
    "Disk_Mem=1\n",
    "print('Disk Block of size %2.1g GB'%(m_list[m_i]/1e9))\n",
    "print('\\r latency mean='+str(_mean[1,m_i])+',  std='+str(_std[1,m_i]))\n",
    "\n",
    "_mean_t=_mean[Disk_Mem,m_i]\n",
    "_std_t=_std[Disk_Mem,m_i]\n",
    "_normal=random.normal(loc=_mean_t,scale=_std_t,size=T.shape[2])\n",
    "tmp=T[Disk_Mem,m_i]\n",
    "print(' Fraction of zeros=',sum(tmp==0)/len(tmp))\n",
    "figure(figsize=(10,4))\n",
    "subplot(121)\n",
    "thr=1e-4\n",
    "hist([tmp[tmp<thr],_normal[_normal<thr]],bins=20);\n",
    "#ylim([0,20000])\n",
    "xlim([-thr/10,thr])\n",
    "title('time < %3.2g ms'%(thr*1e3))\n",
    "xticks(rotation=45)\n",
    "grid()\n",
    "subplot(122)\n",
    "hist([tmp[tmp>=thr],_normal[_normal>=thr]],bins=40);\n",
    "xlim([thr,thr*10])\n",
    "#ylim([0,20])\n",
    "title('time >= %3.2g ms'%(thr*1e3))\n",
    "xticks(rotation=45);\n",
    "grid();"
   ]
  },
  {
   "cell_type": "markdown",
   "metadata": {
    "slideshow": {
     "slide_type": "subslide"
    }
   },
   "source": [
    "### CDF instead of histogram\n",
    "\n",
    "* Choosing ranges and bin-numbers for histograms can be hard."
   ]
  },
  {
   "cell_type": "markdown",
   "metadata": {
    "slideshow": {
     "slide_type": "fragment"
    }
   },
   "source": [
    "* $CDF(a) = Pr(T\\leq a)$ . . . . . . . .($T$=latency)"
   ]
  },
  {
   "cell_type": "markdown",
   "metadata": {
    "slideshow": {
     "slide_type": "fragment"
    }
   },
   "source": [
    "* Plotting a CDF does not require choosing bins."
   ]
  },
  {
   "cell_type": "markdown",
   "metadata": {
    "slideshow": {
     "slide_type": "fragment"
    }
   },
   "source": [
    "* We are interested in larger latencies, so we use instead\n",
    "$$1-CDF(a) = 1-Pr(T\\leq a) = Pr(T>a)$$"
   ]
  },
  {
   "cell_type": "code",
   "execution_count": 12,
   "metadata": {
    "ExecuteTime": {
     "end_time": "2018-04-09T00:51:10.429561Z",
     "start_time": "2018-04-09T00:51:10.070944Z"
    },
    "hide_input": true,
    "scrolled": false,
    "slideshow": {
     "slide_type": "subslide"
    }
   },
   "outputs": [
    {
     "data": {
      "image/png": "[encoded data removed]",
      "text/plain": [
       "<Figure size 1008x504 with 2 Axes>"
      ]
     },
     "metadata": {
      "needs_background": "light"
     },
     "output_type": "display_data"
    }
   ],
   "source": [
    "figure(figsize=(14,7))\n",
    "subplot(121)\n",
    "grid()\n",
    "PlotTime(sort(_normal),_mean_t,_std_t,Color=['y','b','k','r'],LS=['-','-','-','--'],LogLog=False)\n",
    "title('normal distribution')\n",
    "xlabel('delay (sec)',fontsize=18)\n",
    "xlim([-thr/10,thr])\n",
    "ylabel('1-CDF',fontsize=18)\n",
    "tick_params(axis='both', which='major', labelsize=16,rotation=45)\n",
    "tick_params(axis='both', which='minor', labelsize=12,rotation=45)\n",
    "\n",
    "#print('%d Memory Blocks of size %d bytes'%(m_list[m_i],n))\n",
    "#print('\\rMemory pokes _mean='+str(_mean[1,m_i])+', Memory _std='+str(_std[1,m_i]))\n",
    "subplot(122)\n",
    "grid()\n",
    "PlotTime(sort(tmp),_mean_t,_std_t,Color=['y','b','k','r'],LS=['-','-','-','--'],LogLog=False)\n",
    "title('distribution of 1GB memory access latencies')\n",
    "xlabel('delay (sec)',fontsize=18)\n",
    "xlim([-thr/10,thr])\n",
    "#ylim([0,0.001])\n",
    "#ylabel('1-CDF',fontsize=18)\n",
    "tick_params(axis='both', which='major', labelsize=16,rotation=45)\n",
    "tick_params(axis='both', which='minor', labelsize=12,rotation=45)"
   ]
  },
  {
   "cell_type": "markdown",
   "metadata": {
    "slideshow": {
     "slide_type": "subslide"
    }
   },
   "source": [
    "### CDF + loglog plots"
   ]
  },
  {
   "cell_type": "code",
   "execution_count": 13,
   "metadata": {
    "ExecuteTime": {
     "end_time": "2018-04-09T00:51:11.314499Z",
     "start_time": "2018-04-09T00:51:10.431348Z"
    },
    "hide_input": true,
    "scrolled": false,
    "slideshow": {
     "slide_type": "fragment"
    }
   },
   "outputs": [
    {
     "data": {
      "image/png": "[encoded data removed]",
      "text/plain": [
       "<Figure size 864x432 with 2 Axes>"
      ]
     },
     "metadata": {
      "needs_background": "light"
     },
     "output_type": "display_data"
    }
   ],
   "source": [
    "figure(figsize=(12,6))\n",
    "subplot(121)\n",
    "grid()\n",
    "PlotTime(sort(_normal),_mean_t,_std_t,Color=['y','b','k','r'],LS=['-','-','-','--'])\n",
    "title('normal distribution / loglog scaling')\n",
    "xlabel('delay (sec)',fontsize=18)\n",
    "xlim([1e-7,1000*thr])\n",
    "ylabel('1-CDF',fontsize=18)\n",
    "tick_params(axis='both', which='major', labelsize=16)\n",
    "tick_params(axis='both', which='minor', labelsize=12)\n",
    "\n",
    "#print('%d Memory Blocks of size %d bytes'%(m_list[m_i],n))\n",
    "#print('\\rMemory pokes _mean='+str(_mean[1,m_i])+', Memory _std='+str(_std[1,m_i]))\n",
    "subplot(122)\n",
    "grid()\n",
    "PlotTime(sort(tmp),_mean_t,_std_t,Color=['y','b','k','r'],LS=['-','-','-','--'])\n",
    "title('distribution of mem access delays / loglog scaling')\n",
    "xlabel('delay (sec)',fontsize=18)\n",
    "xlim([1e-7,1000*thr])\n",
    "#ylabel('1-CDF',fontsize=18)\n",
    "tick_params(axis='both', which='major', labelsize=16)\n",
    "tick_params(axis='both', which='minor', labelsize=12)"
   ]
  },
  {
   "cell_type": "markdown",
   "metadata": {
    "slideshow": {
     "slide_type": "subslide"
    }
   },
   "source": [
    "### Characterize random access to storage"
   ]
  },
  {
   "cell_type": "code",
   "execution_count": 14,
   "metadata": {
    "ExecuteTime": {
     "end_time": "2018-04-09T00:51:13.227976Z",
     "start_time": "2018-04-09T00:51:11.316531Z"
    },
    "hide_input": true,
    "scrolled": false,
    "slideshow": {
     "slide_type": "subslide"
    }
   },
   "outputs": [
    {
     "data": {
      "image/png": "[encoded data removed]",
      "text/plain": [
       "<Figure size 1332x756 with 1 Axes>"
      ]
     },
     "metadata": {
      "needs_background": "light"
     },
     "output_type": "display_data"
    }
   ],
   "source": [
    "pp = PdfPages('MemoryFigure.pdf')\n",
    "figure(figsize=(6,4))\n",
    "\n",
    "Colors='bgrcmyk'  # The colors for the plot\n",
    "LineStyles=['-',':']\n",
    "Legends=['F','M']\n",
    "\n",
    "fig = matplotlib.pyplot.gcf()\n",
    "fig.set_size_inches(18.5,10.5)\n",
    "\n",
    "for m_i in range(len(m_list)):\n",
    "    Color=Colors[m_i % len(Colors)]\n",
    "    for Type in [0,1]:\n",
    "        \n",
    "        PlotTime(sort(T[Type,m_i]),_mean[Type,m_i],_std[Type,m_i],\\\n",
    "             Color=Color,LS=LineStyles[Type],Legend=m_legend[m_i]+' '+Legends[Type],\\\n",
    "             m_i=m_i)\n",
    "\n",
    "grid()\n",
    "legend(fontsize=18)\n",
    "xlabel('delay (sec)',fontsize=18)\n",
    "ylabel('1-CDF',fontsize=18)\n",
    "tick_params(axis='both', which='major', labelsize=16)\n",
    "tick_params(axis='both', which='minor', labelsize=12)\n",
    "pp.savefig()\n",
    "pp.close()"
   ]
  },
  {
   "cell_type": "markdown",
   "metadata": {
    "hide_input": true,
    "slideshow": {
     "slide_type": "subslide"
    }
   },
   "source": [
    "### Characterize sequential access\n",
    "\n",
    "* Random access degrades rapidly with the size of the block.\n",
    "* Sequential access  is **much** faster.\n",
    "* We already saw that writing 10GB to disk sequentially takes 8.9sec, or less than 1 second for a gigbyte.\n",
    "* Writing a 1TB disk at this rate would take ~1000 seconds or about 16 minutes."
   ]
  },
  {
   "cell_type": "code",
   "execution_count": 15,
   "metadata": {
    "ExecuteTime": {
     "end_time": "2018-04-09T00:52:55.289724Z",
     "start_time": "2018-04-09T00:51:13.229618Z"
    },
    "hide_input": false,
    "scrolled": false,
    "slideshow": {
     "slide_type": "skip"
    }
   },
   "outputs": [
    {
     "name": "stdout",
     "output_type": "stream",
     "text": [
      "### Consecutive Memory writes:\n",
      "\n",
      "|   size (MB) | Average time per byte |\n",
      "| ---------: | --------------: | \n",
      "|  0.001 | 1.8e-08 |\n",
      "|  1.000 | 5.7e-09 |\n",
      "| 1000.000 | 5.2e-09 |\n"
     ]
    },
    {
     "ename": "KeyboardInterrupt",
     "evalue": "",
     "output_type": "error",
     "traceback": [
      "\u001b[0;31m---------------------------------------------------------------------------\u001b[0m",
      "\u001b[0;31mKeyboardInterrupt\u001b[0m                         Traceback (most recent call last)",
      "\u001b[0;32m<ipython-input-15-737272296f09>\u001b[0m in \u001b[0;36m<module>\u001b[0;34m\u001b[0m\n\u001b[1;32m     11\u001b[0m \u001b[0;32mfor\u001b[0m \u001b[0mm\u001b[0m \u001b[0;32min\u001b[0m \u001b[0;34m[\u001b[0m\u001b[0;36m1\u001b[0m\u001b[0;34m,\u001b[0m\u001b[0;36m1000\u001b[0m\u001b[0;34m,\u001b[0m\u001b[0;36m1000000\u001b[0m\u001b[0;34m,\u001b[0m\u001b[0;36m10000000\u001b[0m\u001b[0;34m]\u001b[0m\u001b[0;34m:\u001b[0m\u001b[0;34m\u001b[0m\u001b[0;34m\u001b[0m\u001b[0m\n\u001b[1;32m     12\u001b[0m     \u001b[0mt1\u001b[0m\u001b[0;34m=\u001b[0m\u001b[0mtime\u001b[0m\u001b[0;34m.\u001b[0m\u001b[0mtime\u001b[0m\u001b[0;34m(\u001b[0m\u001b[0;34m)\u001b[0m\u001b[0;34m\u001b[0m\u001b[0;34m\u001b[0m\u001b[0m\n\u001b[0;32m---> 13\u001b[0;31m     \u001b[0mA\u001b[0m\u001b[0;34m=\u001b[0m\u001b[0mnp\u001b[0m\u001b[0;34m.\u001b[0m\u001b[0mrepeat\u001b[0m\u001b[0;34m(\u001b[0m\u001b[0mr\u001b[0m\u001b[0;34m,\u001b[0m\u001b[0mm\u001b[0m\u001b[0;34m)\u001b[0m\u001b[0;34m\u001b[0m\u001b[0;34m\u001b[0m\u001b[0m\n\u001b[0m\u001b[1;32m     14\u001b[0m     \u001b[0mt2\u001b[0m\u001b[0;34m=\u001b[0m\u001b[0mtime\u001b[0m\u001b[0;34m.\u001b[0m\u001b[0mtime\u001b[0m\u001b[0;34m(\u001b[0m\u001b[0;34m)\u001b[0m\u001b[0;34m\u001b[0m\u001b[0;34m\u001b[0m\u001b[0m\n\u001b[1;32m     15\u001b[0m     \u001b[0mConsec\u001b[0m\u001b[0;34m.\u001b[0m\u001b[0mappend\u001b[0m\u001b[0;34m(\u001b[0m\u001b[0;34m(\u001b[0m\u001b[0mn\u001b[0m\u001b[0;34m,\u001b[0m\u001b[0mm\u001b[0m\u001b[0;34m,\u001b[0m\u001b[0mfloat\u001b[0m\u001b[0;34m(\u001b[0m\u001b[0mn\u001b[0m\u001b[0;34m*\u001b[0m\u001b[0mm\u001b[0m\u001b[0;34m)\u001b[0m\u001b[0;34m/\u001b[0m\u001b[0;36m1000000\u001b[0m\u001b[0;34m,\u001b[0m\u001b[0;34m(\u001b[0m\u001b[0mt2\u001b[0m\u001b[0;34m-\u001b[0m\u001b[0mt1\u001b[0m\u001b[0;34m)\u001b[0m\u001b[0;34m/\u001b[0m\u001b[0mfloat\u001b[0m\u001b[0;34m(\u001b[0m\u001b[0mn\u001b[0m\u001b[0;34m*\u001b[0m\u001b[0mm\u001b[0m\u001b[0;34m)\u001b[0m\u001b[0;34m)\u001b[0m\u001b[0;34m)\u001b[0m\u001b[0;34m\u001b[0m\u001b[0;34m\u001b[0m\u001b[0m\n",
      "\u001b[0;32m~/anaconda3/lib/python3.7/site-packages/numpy/core/fromnumeric.py\u001b[0m in \u001b[0;36mrepeat\u001b[0;34m(a, repeats, axis)\u001b[0m\n\u001b[1;32m    469\u001b[0m \u001b[0;34m\u001b[0m\u001b[0m\n\u001b[1;32m    470\u001b[0m     \"\"\"\n\u001b[0;32m--> 471\u001b[0;31m     \u001b[0;32mreturn\u001b[0m \u001b[0m_wrapfunc\u001b[0m\u001b[0;34m(\u001b[0m\u001b[0ma\u001b[0m\u001b[0;34m,\u001b[0m \u001b[0;34m'repeat'\u001b[0m\u001b[0;34m,\u001b[0m \u001b[0mrepeats\u001b[0m\u001b[0;34m,\u001b[0m \u001b[0maxis\u001b[0m\u001b[0;34m=\u001b[0m\u001b[0maxis\u001b[0m\u001b[0;34m)\u001b[0m\u001b[0;34m\u001b[0m\u001b[0;34m\u001b[0m\u001b[0m\n\u001b[0m\u001b[1;32m    472\u001b[0m \u001b[0;34m\u001b[0m\u001b[0m\n\u001b[1;32m    473\u001b[0m \u001b[0;34m\u001b[0m\u001b[0m\n",
      "\u001b[0;32m~/anaconda3/lib/python3.7/site-packages/numpy/core/fromnumeric.py\u001b[0m in \u001b[0;36m_wrapfunc\u001b[0;34m(obj, method, *args, **kwds)\u001b[0m\n\u001b[1;32m     54\u001b[0m \u001b[0;32mdef\u001b[0m \u001b[0m_wrapfunc\u001b[0m\u001b[0;34m(\u001b[0m\u001b[0mobj\u001b[0m\u001b[0;34m,\u001b[0m \u001b[0mmethod\u001b[0m\u001b[0;34m,\u001b[0m \u001b[0;34m*\u001b[0m\u001b[0margs\u001b[0m\u001b[0;34m,\u001b[0m \u001b[0;34m**\u001b[0m\u001b[0mkwds\u001b[0m\u001b[0;34m)\u001b[0m\u001b[0;34m:\u001b[0m\u001b[0;34m\u001b[0m\u001b[0;34m\u001b[0m\u001b[0m\n\u001b[1;32m     55\u001b[0m     \u001b[0;32mtry\u001b[0m\u001b[0;34m:\u001b[0m\u001b[0;34m\u001b[0m\u001b[0;34m\u001b[0m\u001b[0m\n\u001b[0;32m---> 56\u001b[0;31m         \u001b[0;32mreturn\u001b[0m \u001b[0mgetattr\u001b[0m\u001b[0;34m(\u001b[0m\u001b[0mobj\u001b[0m\u001b[0;34m,\u001b[0m \u001b[0mmethod\u001b[0m\u001b[0;34m)\u001b[0m\u001b[0;34m(\u001b[0m\u001b[0;34m*\u001b[0m\u001b[0margs\u001b[0m\u001b[0;34m,\u001b[0m \u001b[0;34m**\u001b[0m\u001b[0mkwds\u001b[0m\u001b[0;34m)\u001b[0m\u001b[0;34m\u001b[0m\u001b[0;34m\u001b[0m\u001b[0m\n\u001b[0m\u001b[1;32m     57\u001b[0m \u001b[0;34m\u001b[0m\u001b[0m\n\u001b[1;32m     58\u001b[0m     \u001b[0;31m# An AttributeError occurs if the object does not have\u001b[0m\u001b[0;34m\u001b[0m\u001b[0;34m\u001b[0m\u001b[0;34m\u001b[0m\u001b[0m\n",
      "\u001b[0;31mKeyboardInterrupt\u001b[0m: "
     ]
    }
   ],
   "source": [
    "import time\n",
    "Consec=[]\n",
    "Line='### Consecutive Memory writes:'\n",
    "print(Line); stat.write(Line+'\\n')\n",
    "n=1000\n",
    "r=np.array(list(range(n)))\n",
    "Header=\"\"\"\n",
    "|   size (MB) | Average time per byte |\n",
    "| ---------: | --------------: | \"\"\"\n",
    "tee(Header)\n",
    "for m in [1,1000,1000000,10000000]:\n",
    "    t1=time.time()\n",
    "    A=np.repeat(r,m)\n",
    "    t2=time.time()\n",
    "    Consec.append((n,m,float(n*m)/1000000,(t2-t1)/float(n*m)))\n",
    "    tee(\"| %6.3f | %4.2g |\" % (float(n*m)/1000000,(t2-t1)/float(n*m)))\n",
    "A=[];r=[]\n",
    "stat.close()"
   ]
  },
  {
   "cell_type": "markdown",
   "metadata": {
    "slideshow": {
     "slide_type": "subslide"
    }
   },
   "source": [
    "### Consecutive Memory writes:\n",
    "\n",
    "<img alt=\"\" src=\"Figures/Sequential_access_latency.png\" style=\"width:500px\" />"
   ]
  },
  {
   "cell_type": "markdown",
   "metadata": {
    "slideshow": {
     "slide_type": "subslide"
    }
   },
   "source": [
    "* We are measuring **bandwidth** rather than **latency**:\n",
    "* We say that it take 8.9sec to write 10GB to SSD, we are **NOT** saying that to write one byte to SSD it take $8.9 \\times 10^{-10}$ second to write a **single** byte.\n",
    "* This is because many write operations are occuring in parallel."
   ]
  },
  {
   "cell_type": "markdown",
   "metadata": {
    "slideshow": {
     "slide_type": "fragment"
    }
   },
   "source": [
    "* Byte-rate for writing large blocks is about (100MB/sec)"
   ]
  },
  {
   "cell_type": "markdown",
   "metadata": {
    "slideshow": {
     "slide_type": "fragment"
    }
   },
   "source": [
    "* Byte-rate for writing large SSD blocks is about (1GB/sec)"
   ]
  },
  {
   "cell_type": "markdown",
   "metadata": {
    "slideshow": {
     "slide_type": "subslide"
    }
   },
   "source": [
    "* Comparison:\n",
    "   * **Memory:** Sequential access: 100M/sec, random access: $10^{-9}$sec for 10KB, $10^{-6}-10^{-3}$ for 10GB\n",
    "   * **SSD:** Sequential access: 1GB/sec, random access: $10^{-5} - 10^{-3}$sec for 10KB, $10^{-4} - 10^{-1}$ for 10GB"
   ]
  },
  {
   "cell_type": "markdown",
   "metadata": {
    "slideshow": {
     "slide_type": "slide"
    }
   },
   "source": [
    "## Collecting System Description\n",
    "In this section you will find commands that list properties of the hardware on which this notebook is running."
   ]
  },
  {
   "cell_type": "markdown",
   "metadata": {
    "slideshow": {
     "slide_type": "slide"
    }
   },
   "source": [
    "### Specify which OS you are using\n",
    "Uncomment the line corresponding to your OS. Comment all of the rest."
   ]
  },
  {
   "cell_type": "code",
   "execution_count": 16,
   "metadata": {
    "ExecuteTime": {
     "end_time": "2018-04-09T00:52:55.301703Z",
     "start_time": "2018-04-09T00:52:55.294929Z"
    },
    "slideshow": {
     "slide_type": "slide"
    }
   },
   "outputs": [],
   "source": [
    "brand_name = \"brand: Macbook\"\n",
    "#brand_name = \"brand: Linux\"\n",
    "#brand_name = \"brand: Windows\""
   ]
  },
  {
   "cell_type": "markdown",
   "metadata": {
    "slideshow": {
     "slide_type": "slide"
    }
   },
   "source": [
    "### For Mac users\n",
    "\n",
    "The next cell needs to be run only by Mac OS users. If run on other OS platforms, it will throw error. "
   ]
  },
  {
   "cell_type": "code",
   "execution_count": 17,
   "metadata": {
    "ExecuteTime": {
     "end_time": "2018-04-09T00:52:55.362208Z",
     "start_time": "2018-04-09T00:52:55.304412Z"
    },
    "slideshow": {
     "slide_type": "slide"
    }
   },
   "outputs": [],
   "source": [
    "if brand_name== \"brand: Macbook\":\n",
    "    # To get all available information use !sysctl -a\n",
    "    os_info = !sysctl kernel.osrelease kernel.osrevision kernel.ostype kernel.osversion\n",
    "    cpu_info = !sysctl machdep.cpu.brand_string machdep.cpu.cache.L2_associativity machdep.cpu.cache.linesize machdep.cpu.cache.size machdep.cpu.core_count\n",
    "    cache_info = !sysctl kern.procname hw.memsize hw.cpufamily hw.activecpu hw.cachelinesize hw.cpufrequency hw.l1dcachesize hw.l1icachesize hw.l2cachesize hw.l3cachesize hw.cputype "
   ]
  },
  {
   "cell_type": "markdown",
   "metadata": {
    "slideshow": {
     "slide_type": "slide"
    }
   },
   "source": [
    "### For Linux OS users"
   ]
  },
  {
   "cell_type": "code",
   "execution_count": 18,
   "metadata": {
    "ExecuteTime": {
     "end_time": "2018-04-09T00:52:55.384325Z",
     "start_time": "2018-04-09T00:52:55.365010Z"
    },
    "slideshow": {
     "slide_type": "slide"
    }
   },
   "outputs": [],
   "source": [
    "if brand_name == \"brand: Linux\":\n",
    "    os_info = !sysctl kernel.ostype kernel.osrelease \n",
    "    os_version = !lsb_release -r\n",
    "    memory_size = !cat /proc/meminfo | grep 'MemTotal'\n",
    "    os_info += os_version + memory_size\n",
    "\n",
    "    cache_L1i = !lscpu | grep 'L1i'\n",
    "    cache_L1d = !lscpu | grep 'L1d'\n",
    "    cache_L2 = !lscpu | grep 'L2'\n",
    "    cache_L3 = !lscpu | grep 'L3'\n",
    "    cache_info = cache_L1i + cache_L1d + cache_L2 + cache_L3\n",
    "\n",
    "    cpu_type = !lscpu | grep 'CPU family'\n",
    "    cpu_brand = !cat /proc/cpuinfo | grep -m 1 'model name'\n",
    "    cpu_frequency = !lscpu | grep 'CPU MHz'\n",
    "    cpu_core_count = !lscpu | grep 'CPU(s)'\n",
    "    cpu_info = cpu_type + cpu_brand + cpu_frequency + cpu_core_count"
   ]
  },
  {
   "cell_type": "markdown",
   "metadata": {
    "slideshow": {
     "slide_type": "slide"
    }
   },
   "source": [
    "###  For Windows users"
   ]
  },
  {
   "cell_type": "code",
   "execution_count": 19,
   "metadata": {
    "ExecuteTime": {
     "end_time": "2018-04-09T00:52:55.399171Z",
     "start_time": "2018-04-09T00:52:55.386704Z"
    },
    "slideshow": {
     "slide_type": "slide"
    }
   },
   "outputs": [],
   "source": [
    "if brand_name ==\"brand: Windows\":\n",
    "    os_release  = !ver\n",
    "    os_type     = !WMIC CPU get  SystemCreationClassName\n",
    "    memory      = !WMIC ComputerSystem get TotalPhysicalMemory\n",
    "    os_info     = os_release + os_type\n",
    "\n",
    "    cpu_core_count  = !WMIC CPU get NumberOfCores\n",
    "    cpu_speed       = !WMIC CPU get CurrentClockSpeed\n",
    "    cpu_model_name  = !WMIC CPU get name\n",
    "    cpu_info        = cpu_core_count + cpu_speed + cpu_model_name\n",
    "\n",
    "    l2cachesize = !WMIC CPU get L2CacheSize\n",
    "    l3cachesize = !WMIC CPU get L3CacheSize\n",
    "    cache_info  = l2cachesize + l3cachesize"
   ]
  },
  {
   "cell_type": "code",
   "execution_count": 20,
   "metadata": {
    "ExecuteTime": {
     "end_time": "2018-04-09T00:52:55.406590Z",
     "start_time": "2018-04-09T00:52:55.401537Z"
    },
    "slideshow": {
     "slide_type": "slide"
    }
   },
   "outputs": [
    {
     "name": "stdout",
     "output_type": "stream",
     "text": [
      "Main Harware Parameters:\n",
      "\n",
      "brand: Macbook\n",
      "sysctl: unknown oid 'kernel.osrelease'\n",
      "kern.procname: sysctl\n",
      "hw.memsize: 17179869184\n",
      "hw.cpufamily: 280134364\n",
      "hw.activecpu: 8\n",
      "hw.cachelinesize: 64\n",
      "hw.cpufrequency: 2500000000\n",
      "hw.l1dcachesize: 32768\n",
      "hw.l1icachesize: 32768\n",
      "hw.l2cachesize: 262144\n",
      "hw.l3cachesize: 6291456\n",
      "hw.cputype: 7\n",
      "machdep.cpu.brand_string: Intel(R) Core(TM) i7-4870HQ CPU @ 2.50GHz\n",
      "machdep.cpu.cache.L2_associativity: 8\n",
      "machdep.cpu.cache.linesize: 64\n",
      "machdep.cpu.cache.size: 256\n",
      "machdep.cpu.core_count: 4\n"
     ]
    }
   ],
   "source": [
    "# Print collected information\n",
    "description=[brand_name] + os_info + cache_info + cpu_info\n",
    "print(\"Main Harware Parameters:\\n\")\n",
    "print('\\n'.join(description))"
   ]
  },
  {
   "cell_type": "markdown",
   "metadata": {
    "slideshow": {
     "slide_type": "slide"
    }
   },
   "source": [
    "### Summary of  Macbook Pro hardware parameters\n",
    "*   Intel four cores\n",
    "* Clock Rate: `2.50GHz` (0.4ns per clock cycle)\n",
    "<img alt=\"\" src=\"Figures/MacBookProMemorySizes.png\" style=\"width:500px\" />"
   ]
  },
  {
   "cell_type": "code",
   "execution_count": 21,
   "metadata": {
    "ExecuteTime": {
     "end_time": "2018-04-09T00:52:55.418293Z",
     "start_time": "2018-04-09T00:52:55.409222Z"
    },
    "slideshow": {
     "slide_type": "skip"
    }
   },
   "outputs": [],
   "source": [
    "# Writing all necesarry information int oa pickle file.\n",
    "import pickle\n",
    "with open(home_base+'/memory_report.pkl','wb') as pickle_file:\n",
    "    pickle.dump({'description':description,\n",
    "                'Consec':Consec,\n",
    "                'Random_pokes':Random_pokes},\n",
    "               pickle_file)"
   ]
  },
  {
   "cell_type": "markdown",
   "metadata": {
    "slideshow": {
     "slide_type": "slide"
    }
   },
   "source": [
    "## Observations"
   ]
  },
  {
   "cell_type": "markdown",
   "metadata": {
    "slideshow": {
     "slide_type": "fragment"
    }
   },
   "source": [
    "* making measurements in the wild allows you to measure the performance of your hardware with your software.\n",
    "* Measuring in the wild you discover unexpected glitches: \n",
    "  * timer resolution is 1$\\mu$sec\n",
    "  * once every ~10,000 of a zero-time poke there is a 10^{-5}$ delay. Maybe a context switch?"
   ]
  },
  {
   "cell_type": "markdown",
   "metadata": {
    "slideshow": {
     "slide_type": "subslide"
    }
   },
   "source": [
    "* Latencies typically have long tails - Use loglog graphs."
   ]
  },
  {
   "cell_type": "markdown",
   "metadata": {
    "slideshow": {
     "slide_type": "fragment"
    }
   },
   "source": [
    "* Memory latency varies from $10^{-9}$sec to $10^{-6}$sec depending on access pattern."
   ]
  },
  {
   "cell_type": "markdown",
   "metadata": {
    "slideshow": {
     "slide_type": "fragment"
    }
   },
   "source": [
    "* SSD latency for random access varies from $10^{-5}$sec to $10^{-1}$sec."
   ]
  },
  {
   "cell_type": "markdown",
   "metadata": {
    "slideshow": {
     "slide_type": "subslide"
    }
   },
   "source": [
    "* When reading or writing large blocks, we care about **throughput** or **byte-rate** not **latency**"
   ]
  },
  {
   "cell_type": "markdown",
   "metadata": {
    "slideshow": {
     "slide_type": "fragment"
    }
   },
   "source": [
    "* Typical throughputs:  **Memory:** 100MB/sec   **SSD:** 1GB/sec   **Disk:** (fill in)"
   ]
  },
  {
   "cell_type": "markdown",
   "metadata": {
    "slideshow": {
     "slide_type": "subslide"
    }
   },
   "source": [
    "### Impact on Big Data Analytics"
   ]
  },
  {
   "cell_type": "markdown",
   "metadata": {
    "slideshow": {
     "slide_type": "fragment"
    }
   },
   "source": [
    "* Clock rate is stuck at around 3GHz, and is likely to be stuck there for the forseeable future."
   ]
  },
  {
   "cell_type": "markdown",
   "metadata": {
    "slideshow": {
     "slide_type": "fragment"
    }
   },
   "source": [
    "* **Faster** computers / disks / networks are **expensive** "
   ]
  },
  {
   "cell_type": "markdown",
   "metadata": {},
   "source": [
    "* **focus on data access: ** The main bottleneck on big data computation is moving data around, **NOT** calculation."
   ]
  },
  {
   "cell_type": "markdown",
   "metadata": {
    "slideshow": {
     "slide_type": "subslide"
    }
   },
   "source": [
    "* The cost-effective solution is often a cluster of many cheap computers, each with many cores and break up the data so that each computer has a small fraction of the data."
   ]
  },
  {
   "cell_type": "markdown",
   "metadata": {
    "slideshow": {
     "slide_type": "fragment"
    }
   },
   "source": [
    "* Data-Centers and the \"Cloud\""
   ]
  },
  {
   "cell_type": "markdown",
   "metadata": {
    "slideshow": {
     "slide_type": "fragment"
    }
   },
   "source": [
    "* I invite you to use this notebook on your computer to get a better understanding of its memory access latency."
   ]
  },
  {
   "cell_type": "markdown",
   "metadata": {
    "slideshow": {
     "slide_type": "subslide"
    }
   },
   "source": [
    "* If you are interest in way to make more accurate measurements of latency, try notebook 3."
   ]
  },
  {
   "cell_type": "markdown",
   "metadata": {},
   "source": [
    "* See you next time."
   ]
  },
  {
   "cell_type": "markdown",
   "metadata": {
    "slideshow": {
     "slide_type": "skip"
    }
   },
   "source": [
    "## Clean-Up\n",
    "This notebook generates large logs that can be deleted.\n",
    "\n",
    "A summary of the results is placed in the file `memory_report.pkl`"
   ]
  },
  {
   "cell_type": "code",
   "execution_count": 22,
   "metadata": {
    "ExecuteTime": {
     "end_time": "2018-04-09T00:52:55.581487Z",
     "start_time": "2018-04-09T00:52:55.420505Z"
    },
    "slideshow": {
     "slide_type": "skip"
    }
   },
   "outputs": [
    {
     "name": "stdout",
     "output_type": "stream",
     "text": [
      "/Users/yoavfreund/academic.papers/Courses/BigDataAnalytics/BigData_spring2016/CSE255-DSE230-2018/Sections/Section1-Spark-Basics/0.MemoryLatency\n"
     ]
    }
   ],
   "source": [
    "%cd $home_base\n",
    "\n",
    "!rm -rf logs"
   ]
  }
 ],
 "metadata": {
  "anaconda-cloud": {},
  "celltoolbar": "Slideshow",
  "hide_input": false,
  "kernelspec": {
   "display_name": "Python 3",
   "language": "python",
   "name": "python3"
  },
  "language_info": {
   "codemirror_mode": {
    "name": "ipython",
    "version": 3
   },
   "file_extension": ".py",
   "mimetype": "text/x-python",
   "name": "python",
   "nbconvert_exporter": "python",
   "pygments_lexer": "ipython3",
   "version": "3.7.3"
  },
  "toc": {
   "base_numbering": 1,
   "nav_menu": {
    "height": "82px",
    "width": "252px"
   },
   "number_sections": true,
   "sideBar": true,
   "skip_h1_title": false,
   "title_cell": "Table of Contents",
   "title_sidebar": "Contents",
   "toc_cell": false,
   "toc_position": {
    "height": "597px",
    "left": "0px",
    "right": "1204px",
    "top": "106px",
    "width": "251px"
   },
   "toc_section_display": "block",
   "toc_window_display": false
  }
 },
 "nbformat": 4,
 "nbformat_minor": 2
}
