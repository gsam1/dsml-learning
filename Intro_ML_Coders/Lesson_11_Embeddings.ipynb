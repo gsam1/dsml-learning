{
 "cells": [
  {
   "cell_type": "markdown",
   "metadata": {},
   "source": [
    "# 11 — EMBEDDINGS"
   ]
  },
  {
   "cell_type": "markdown",
   "metadata": {},
   "source": [
    "[Course Notebook on Github](https://github.com/fastai/fastai/blob/master/courses/ml1/lesson5-nlp.ipynb)\n",
    "\n",
    "### Notes\n",
    "My goal is not to copy what it is taught in the course and in the notebook. Its just various notes and trying things for my own.\n",
    "Extrapolation in the previous notebook."
   ]
  },
  {
   "cell_type": "markdown",
   "metadata": {},
   "source": [
    "## Lecture Personal Notes\n",
    "\n",
    "1. Review:\n",
    "    * Optimizing multylayer SGD\n",
    "        * Data * f(x) - Softmax, Sigmoid\n",
    "        * Put it through some loss Cross Enthropy\n",
    "        * Calculate Derivative wrt weights - chain rule\n",
    "        * Cross-enthropy - like RMSE, but for classification = Actual*LOG(prediction) - (1 - Actual) * log(1 - prediction)\n",
    "        * if(y = 1) -> log(y) else log(y)\n",
    "        * RMSE/CE - Statistical Idea of Best Linear unbiased estimator\n",
    "        * Using Absolute Deviation > RMSE -> often works better\n",
    "        * Impacted differently by regularization\n",
    "        * l = x.e(xw, y) + aw^2\n",
    "2. Embeddings:\n",
    "   * Matrix Multply Feature vs Coeff.\n",
    "   * Simple array lookup.\n",
    "   * Can be used for sale of items.\n",
    "   * Entity-Embeddings."
   ]
  },
  {
   "cell_type": "code",
   "execution_count": null,
   "metadata": {},
   "outputs": [],
   "source": []
  }
 ],
 "metadata": {
  "kernelspec": {
   "display_name": "Python 3",
   "language": "python",
   "name": "python3"
  },
  "language_info": {
   "codemirror_mode": {
    "name": "ipython",
    "version": 3
   },
   "file_extension": ".py",
   "mimetype": "text/x-python",
   "name": "python",
   "nbconvert_exporter": "python",
   "pygments_lexer": "ipython3",
   "version": "3.7.3"
  }
 },
 "nbformat": 4,
 "nbformat_minor": 2
}
