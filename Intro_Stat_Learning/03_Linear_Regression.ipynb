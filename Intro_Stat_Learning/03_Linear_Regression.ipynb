{
 "cells": [
  {
   "cell_type": "markdown",
   "metadata": {},
   "source": [
    "# 2 Statistical Learning\n",
    "### Exercises\n",
    "\n",
    "## Conceptual\n",
    "1. The null hypothesis for Tv, radio and newspaper state that each factor individually does not contribute to sales. The coefficients show us that for TV and radio that is not the case.\n",
    "\n",
    "2. KNN for classification and regression are the same, however the output is different - whereas classification outputs the class belonging of the sample, the regressor outputs a likely value.\n",
    "\n",
    "3. \n",
    "    a) \n",
    "        i) True, if GPA is high enough.  \n",
    "        ii) False.  \n",
    "        iii) if GPA is high enough males earn more on average.  \n",
    "     b) 137.1  \n",
    "     c) Without coefficients we cannot estimate significance.\n",
    "## Applied"
   ]
  },
  {
   "cell_type": "code",
   "execution_count": null,
   "metadata": {},
   "outputs": [],
   "source": []
  }
 ],
 "metadata": {
  "kernelspec": {
   "display_name": "Python 3",
   "language": "python",
   "name": "python3"
  },
  "language_info": {
   "codemirror_mode": {
    "name": "ipython",
    "version": 3
   },
   "file_extension": ".py",
   "mimetype": "text/x-python",
   "name": "python",
   "nbconvert_exporter": "python",
   "pygments_lexer": "ipython3",
   "version": "3.6.6"
  }
 },
 "nbformat": 4,
 "nbformat_minor": 2
}
