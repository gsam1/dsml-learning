{
 "cells": [
  {
   "cell_type": "code",
   "execution_count": 1,
   "metadata": {},
   "outputs": [],
   "source": [
    "preset = 'file:///root/lab/ws/dsml-learning/spark_python_handson/dataset/'\n",
    "from pyspark import SparkConf, SparkContext\n",
    "\n",
    "conf = SparkConf().setAppName('MostPopularSuperHero')\n",
    "sc = SparkContext(conf = conf)"
   ]
  },
  {
   "cell_type": "code",
   "execution_count": 8,
   "metadata": {},
   "outputs": [],
   "source": [
    "def countOccurence(line):\n",
    "    elements = line.split()\n",
    "    return (int(elements[0]), len(elements) - 1)\n",
    "\n",
    "def parseNames(line):\n",
    "    fields = line.split(' ')\n",
    "    return (int(fields[0]), fields[1].strip('\"'))\n",
    "\n",
    "names = sc.textFile(preset + 'marvel-names.txt')\n",
    "namesRdd = names.map(parseNames)\n",
    "\n",
    "lines = sc.textFile(preset + 'marvel-graph.txt')\n",
    "\n",
    "pairings = lines.map(countOccurence)\n",
    "totalFriendsByCharacter = pairings.reduceByKey(lambda x, y: x + y)\n",
    "flipped = totalFriendsByCharacter.map(lambda x: (x[1], x[0]))\n",
    "mostPopular = flipped.max()\n",
    "mostPopularName = namesRdd.lookup(mostPopular[1])[0]"
   ]
  },
  {
   "cell_type": "code",
   "execution_count": 11,
   "metadata": {},
   "outputs": [
    {
     "data": {
      "text/plain": [
       "((1933, 859), 'CAPTAIN')"
      ]
     },
     "execution_count": 11,
     "metadata": {},
     "output_type": "execute_result"
    }
   ],
   "source": [
    "mostPopular, mostPopularName"
   ]
  },
  {
   "cell_type": "markdown",
   "metadata": {},
   "source": [
    "### Breadth First Search"
   ]
  },
  {
   "cell_type": "code",
   "execution_count": null,
   "metadata": {},
   "outputs": [],
   "source": []
  }
 ],
 "metadata": {
  "kernelspec": {
   "display_name": "Python 3",
   "language": "python",
   "name": "python3"
  },
  "language_info": {
   "codemirror_mode": {
    "name": "ipython",
    "version": 3
   },
   "file_extension": ".py",
   "mimetype": "text/x-python",
   "name": "python",
   "nbconvert_exporter": "python",
   "pygments_lexer": "ipython3",
   "version": "3.6.9"
  }
 },
 "nbformat": 4,
 "nbformat_minor": 4
}
