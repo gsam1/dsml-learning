{
 "cells": [
  {
   "cell_type": "markdown",
   "metadata": {},
   "source": [
    "# Chapter 1. The Machine Learning Landscape"
   ]
  },
  {
   "cell_type": "markdown",
   "metadata": {},
   "source": [
    "## Exercises\n",
    "\n",
    "**1. How would you define Machine Learning?**  \n",
    "    Machine learning is the ability of algorithms to learn from data so they can predict, given a never-seen before input a value within a certain margin of error.  \n",
    "**2. Can you name four types of problems where it shines?**  \n",
    "    Predicting failure via anomaly detection, spam filters for classification (as mentioned in the book), learning to play games or adapt to an environment (Reinforcement), OCR and so on.  \n",
    "**3. What is a labeled training set?**  \n",
    "    A dataset used for training an supervised machine learning model.  \n",
    "**4. What are the two most common supervised tasks?**  \n",
    "    Regression and Classification.  \n",
    "**5. Can you name four common unsupervised tasks?**  \n",
    "    Clustering, Anomaly Detection, Associate Rule Learning and Dimensionality Reduction.  \n",
    "**6. What type of Machine Learning algorithm would you use to allow a robot to walk in various unknown terrains?**  \n",
    "    Reinforcement Learning.  \n",
    "**7. What type of algorithm would you use to segment your customers into multiple groups?**  \n",
    "    K-means clustering, Hierarchical Clustering.  \n",
    "**8. Would you frame the problem of spam detection as a supervised learning problem or an unsupervised learning problem?**  \n",
    "    Definately supervised, as we have the labels of the training data.  \n",
    "**9. What is an online learning system?**  \n",
    "    A system that learns via mini-batches, instead of on the whole data.  \n",
    "**10. What is out-of-core learning?**  \n",
    "    Learning on a dataset, that cannot fit into the memory and has to be fed in mini-batches.  \n",
    "**11. What type of learning algorithm relies on a similarity measure to make predictions?**  \n",
    "    Instance-Based algorithms  \n",
    "**12. What is the difference between a model parameter and a learning algorithm’s hyperparameter?**  \n",
    "    A model parameter is something the model tunes via learning, while a hyperparameter is a parameter of the model itself.  \n",
    "**13. What do model-based learning algorithms search for? What is the most common strategy they use to succeed? How do they make predictions?**  \n",
    "    The model-based learning algorithms have a defined cost function, that they seek to minimize. They minimize it by adjusting the weights on the features (f.e. a linear model) and they make predictions, by using the learned weights on new data.  \n",
    "**14. Can you name four of the main challenges in Machine Learning?**  \n",
    "    Bad algorithms; Bad data; Overfitting; Underfittings.  \n",
    "**15. If your model performs great on the training data but generalizes poorly to new instances, what is happening? Can you name three possible solutions?**  \n",
    "    The model overfits - a solution would be to get more data, use regularization to constrain the model or clear the noise in the data.  \n",
    "**16. What is a test set and why would you want to use it?**  \n",
    "    To test the final version of our model on a never-before seen data.  \n",
    "**17. What is the purpose of a validation set?**  \n",
    "    So that we do not use the test set to tune our hyperparameters and hence the model to not learn the test set.  \n",
    "**18. What can go wrong if you tune hyperparameters using the test set?**  \n",
    "    The model will 'fit' the test set and will poorly generalize for new data.  \n",
    "**19. What is cross-validation and why would you prefer it to a validation set?**  \n",
    "    Used to compare learning algorithms to each other by holding out one fold, out of N for validation."
   ]
  }
 ],
 "metadata": {
  "kernelspec": {
   "display_name": "Python 3",
   "language": "python",
   "name": "python3"
  },
  "language_info": {
   "codemirror_mode": {
    "name": "ipython",
    "version": 3
   },
   "file_extension": ".py",
   "mimetype": "text/x-python",
   "name": "python",
   "nbconvert_exporter": "python",
   "pygments_lexer": "ipython3",
   "version": "3.6.6"
  }
 },
 "nbformat": 4,
 "nbformat_minor": 2
}
